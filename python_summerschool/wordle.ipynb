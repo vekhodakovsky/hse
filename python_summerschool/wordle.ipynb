{
 "cells": [
  {
   "cell_type": "markdown",
   "id": "dacd221e",
   "metadata": {},
   "source": [
    "### <div style=\"text-align: right;\"> Василий Ходаковский, v.e.khodakovsky@gmail.com </div>"
   ]
  },
  {
   "cell_type": "markdown",
   "id": "6c0056eb",
   "metadata": {},
   "source": [
    " "
   ]
  },
  {
   "cell_type": "markdown",
   "id": "52dc3fdf",
   "metadata": {},
   "source": [
    " "
   ]
  },
  {
   "cell_type": "markdown",
   "id": "5a546861",
   "metadata": {},
   "source": [
    " "
   ]
  },
  {
   "cell_type": "markdown",
   "id": "84b6a87a",
   "metadata": {},
   "source": [
    " "
   ]
  },
  {
   "cell_type": "markdown",
   "id": "5ff32f61",
   "metadata": {},
   "source": [
    " "
   ]
  },
  {
   "cell_type": "markdown",
   "id": "526a4ae9",
   "metadata": {},
   "source": [
    "## Задача 4: Wordle"
   ]
  },
  {
   "cell_type": "code",
   "execution_count": 38,
   "id": "4bcc5532",
   "metadata": {},
   "outputs": [
    {
     "name": "stderr",
     "output_type": "stream",
     "text": [
      "[nltk_data] Downloading package words to\n",
      "[nltk_data]     C:\\Users\\Vasily\\AppData\\Roaming\\nltk_data...\n",
      "[nltk_data]   Package words is already up-to-date!\n"
     ]
    }
   ],
   "source": [
    "import random\n",
    "import re\n",
    "import nltk\n",
    "import colorama\n",
    "from colorama import Fore, Back, Style\n",
    "\n",
    "nltk.download('words')\n",
    "\n",
    "from nltk.corpus import words as english_words"
   ]
  },
  {
   "cell_type": "code",
   "execution_count": 39,
   "id": "112f7b0c",
   "metadata": {},
   "outputs": [],
   "source": [
    "word_list = [\"start\", \"stale\"] # Сюда можно добавлять слова, случайное из которых программа загадает пользователю"
   ]
  },
  {
   "cell_type": "code",
   "execution_count": 41,
   "id": "35d0e540",
   "metadata": {},
   "outputs": [
    {
     "name": "stdout",
     "output_type": "stream",
     "text": [
      "Угадайте пятибуквенное слово! У вас есть 6 попыток.\n",
      "\n",
      "Попытка 1\n",
      "Ваше слово: apple\n",
      "РЕЗУЛЬТАТ: \u001b[33mA\u001b[0m \u001b[90mP\u001b[0m \u001b[90mP\u001b[0m \u001b[32mL\u001b[0m \u001b[32mE\u001b[0m\n",
      "1. A есть, но стоит не там\n",
      "2. P отсутствует в слове\n",
      "3. P отсутствует в слове\n",
      "4. L стоит на правильном месте\n",
      "5. E стоит на правильном месте\n",
      "\n",
      "Попытка 2\n",
      "Ваше слово: TaSTY\n",
      "РЕЗУЛЬТАТ: \u001b[33mT\u001b[0m \u001b[33mA\u001b[0m \u001b[33mS\u001b[0m \u001b[90mT\u001b[0m \u001b[90mY\u001b[0m\n",
      "1. T есть, но стоит не там\n",
      "2. A есть, но стоит не там\n",
      "3. S есть, но стоит не там\n",
      "4. T отсутствует в слове\n",
      "5. Y отсутствует в слове\n",
      "\n",
      "Попытка 3\n",
      "Ваше слово: Privet\n",
      "Слово должно состоять из пяти букв.\n",
      "\n",
      "Попытка 3\n",
      "Ваше слово: океан\n",
      "Слово должно содержать только буквы латинского алфавита.\n",
      "\n",
      "Попытка 3\n",
      "Ваше слово: dfgdf\n",
      "Такого слова не существует в английском языке.\n",
      "\n",
      "Попытка 3\n",
      "Ваше слово: steep\n",
      "РЕЗУЛЬТАТ: \u001b[32mS\u001b[0m \u001b[32mT\u001b[0m \u001b[33mE\u001b[0m \u001b[90mE\u001b[0m \u001b[90mP\u001b[0m\n",
      "1. S стоит на правильном месте\n",
      "2. T стоит на правильном месте\n",
      "3. E есть, но стоит не там\n",
      "4. E отсутствует в слове\n",
      "5. P отсутствует в слове\n",
      "\n",
      "Попытка 4\n",
      "Ваше слово: stale\n",
      "РЕЗУЛЬТАТ: \u001b[32mS\u001b[0m \u001b[32mT\u001b[0m \u001b[32mA\u001b[0m \u001b[32mL\u001b[0m \u001b[32mE\u001b[0m\n",
      "1. S стоит на правильном месте\n",
      "2. T стоит на правильном месте\n",
      "3. A стоит на правильном месте\n",
      "4. L стоит на правильном месте\n",
      "5. E стоит на правильном месте\n",
      "\n",
      "Поздравляем, вы выиграли!\n"
     ]
    }
   ],
   "source": [
    "def choose_word(word_list):\n",
    "    return random.choice(word_list).upper()\n",
    "\n",
    "def is_english_word(word):\n",
    "    return word.lower() in english_words.words()\n",
    "\n",
    "def get_color(chosen_word, guess):\n",
    "    color_list = []\n",
    "    used_indices = []\n",
    "    for i in range(5):\n",
    "        if guess[i] == chosen_word[i]:\n",
    "            color_list.append(Fore.GREEN + guess[i] + Style.RESET_ALL)\n",
    "            used_indices.append(i)\n",
    "        else:\n",
    "            found = False\n",
    "            for j in range(5):\n",
    "                if j not in used_indices and guess[i] == chosen_word[j]:\n",
    "                    color_list.append(Fore.YELLOW + guess[i] + Style.RESET_ALL)\n",
    "                    used_indices.append(j)\n",
    "                    found = True\n",
    "                    break\n",
    "            if not found:\n",
    "                color_list.append(Fore.LIGHTBLACK_EX + guess[i] + Style.RESET_ALL)\n",
    "    return ' '.join(color_list)\n",
    "\n",
    "\n",
    "def get_feedback(guess, target):\n",
    "    feedback = [\"\"] * 5\n",
    "    target_letters = list(target)\n",
    "    guess_letters = list(guess)\n",
    "\n",
    "    correct_placement_indices = [i for i in range(5) if guess_letters[i] == target_letters[i]]\n",
    "    for i in range(5):\n",
    "        if i in correct_placement_indices:\n",
    "            feedback[i] = f\"{guess_letters[i]} стоит на правильном месте\"\n",
    "            target_letters[i] = None\n",
    "\n",
    "    for i in range(5):\n",
    "        if feedback[i] != \"\":\n",
    "            continue\n",
    "        if guess_letters[i] in target_letters:\n",
    "            feedback[i] = f\"{guess_letters[i]} есть, но стоит не там\"\n",
    "            target_letters[target_letters.index(guess_letters[i])] = None\n",
    "        else:\n",
    "            feedback[i] = f\"{guess_letters[i]} отсутствует в слове\"\n",
    "\n",
    "    for i in range(5):\n",
    "        print(f\"{i + 1}. {feedback[i]}\")\n",
    "\n",
    "def play_game():\n",
    "    target_word = choose_word(word_list)\n",
    "    attempts = 0\n",
    "    max_attempts = 6\n",
    "    attempt_number = 1\n",
    "\n",
    "    print(\"Угадайте пятибуквенное слово! У вас есть 6 попыток.\")\n",
    "\n",
    "    while attempts < max_attempts:\n",
    "        print(f\"\\nПопытка {attempt_number}\")\n",
    "        guess = input(\"Ваше слово: \").strip().upper()\n",
    "\n",
    "        if len(guess) != 5:\n",
    "            print(\"Слово должно состоять из пяти букв.\")\n",
    "            continue\n",
    "\n",
    "        if not re.match(\"^[A-Z]+$\", guess):\n",
    "            print(\"Слово должно содержать только буквы латинского алфавита.\")\n",
    "            continue\n",
    "\n",
    "        if not is_english_word(guess):\n",
    "            print(\"Такого слова не существует в английском языке.\")\n",
    "            continue\n",
    "\n",
    "        colored_guess = get_color(target_word, guess)\n",
    "        print(f\"РЕЗУЛЬТАТ: {colored_guess}\")\n",
    "\n",
    "        get_feedback(guess, target_word)\n",
    "\n",
    "        if guess == target_word:\n",
    "            print(\"\\nПоздравляем, вы выиграли!\")\n",
    "            return\n",
    "\n",
    "        attempts += 1\n",
    "        attempt_number += 1\n",
    "\n",
    "    print(f\"\\nК сожалению, вы проиграли. Загаданное слово: {target_word}\")\n",
    "\n",
    "play_game()"
   ]
  },
  {
   "cell_type": "markdown",
   "id": "67eaad5d",
   "metadata": {},
   "source": [
    " "
   ]
  },
  {
   "cell_type": "markdown",
   "id": "c13f3c85",
   "metadata": {},
   "source": [
    " "
   ]
  },
  {
   "cell_type": "markdown",
   "id": "09826e25",
   "metadata": {},
   "source": [
    " "
   ]
  },
  {
   "cell_type": "markdown",
   "id": "ac57f94e",
   "metadata": {},
   "source": [
    "# Спасибо за внимание!"
   ]
  }
 ],
 "metadata": {
  "kernelspec": {
   "display_name": "Python 3 (ipykernel)",
   "language": "python",
   "name": "python3"
  },
  "language_info": {
   "codemirror_mode": {
    "name": "ipython",
    "version": 3
   },
   "file_extension": ".py",
   "mimetype": "text/x-python",
   "name": "python",
   "nbconvert_exporter": "python",
   "pygments_lexer": "ipython3",
   "version": "3.9.12"
  }
 },
 "nbformat": 4,
 "nbformat_minor": 5
}

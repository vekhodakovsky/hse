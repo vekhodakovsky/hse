{
 "cells": [
  {
   "cell_type": "markdown",
   "id": "dacd221e",
   "metadata": {},
   "source": [
    "### <div style=\"text-align: right;\"> Василий Ходаковский, v.e.khodakovsky@gmail.com </div>"
   ]
  },
  {
   "cell_type": "markdown",
   "id": "6c0056eb",
   "metadata": {},
   "source": [
    " "
   ]
  },
  {
   "cell_type": "markdown",
   "id": "db6dc710",
   "metadata": {},
   "source": [
    "# Вступительное задание для мастерской ТекстАн в Летней Школе"
   ]
  },
  {
   "cell_type": "markdown",
   "id": "41abca84",
   "metadata": {},
   "source": [
    " "
   ]
  },
  {
   "cell_type": "markdown",
   "id": "a76948bb",
   "metadata": {},
   "source": [
    " "
   ]
  },
  {
   "cell_type": "markdown",
   "id": "96652b1c",
   "metadata": {},
   "source": [
    " "
   ]
  },
  {
   "cell_type": "markdown",
   "id": "0acaf1d9",
   "metadata": {},
   "source": [
    " "
   ]
  },
  {
   "cell_type": "markdown",
   "id": "a75da452",
   "metadata": {},
   "source": [
    " "
   ]
  },
  {
   "cell_type": "markdown",
   "id": "58849e00",
   "metadata": {},
   "source": [
    "## Задача 1: ЛИНГВИСТИКА"
   ]
  },
  {
   "cell_type": "markdown",
   "id": "a516a47c",
   "metadata": {},
   "source": [
    "#### Условия: <br>\n",
    "Бильба и Больба берут за основу слово \"ЛИНГВИСТИКА\", а затем составляют слова из пяти букв, взятых из этого слова\n",
    "(необязательно существующие). <br>\n",
    "Правило Бильбы - все буквы должны быть уникальными. <br>\n",
    "Правило Больбы - 2 и 4 буквы в придуманном слове должны быть гласными."
   ]
  },
  {
   "cell_type": "markdown",
   "id": "e339f116",
   "metadata": {},
   "source": [
    "#### Выяснить вероятность успеха, если: <br>\n",
    "а) Они оба не знают правил составления слов товарища по игре. <br>\n",
    "б) Если Бильбе известны правила Больбы, а Больба остается в неведении"
   ]
  },
  {
   "cell_type": "markdown",
   "id": "7178986c",
   "metadata": {},
   "source": [
    " "
   ]
  },
  {
   "cell_type": "markdown",
   "id": "8c3d0d68",
   "metadata": {},
   "source": [
    " "
   ]
  },
  {
   "cell_type": "markdown",
   "id": "e964c5dc",
   "metadata": {},
   "source": [
    " "
   ]
  },
  {
   "cell_type": "markdown",
   "id": "317328ce",
   "metadata": {},
   "source": [
    "#### Правила Бильбы"
   ]
  },
  {
   "cell_type": "code",
   "execution_count": 1,
   "id": "32cb90cd",
   "metadata": {},
   "outputs": [],
   "source": [
    "import math"
   ]
  },
  {
   "cell_type": "code",
   "execution_count": 2,
   "id": "7db20fa2",
   "metadata": {},
   "outputs": [
    {
     "name": "stdout",
     "output_type": "stream",
     "text": [
      "Уникальные буквы слова \"ЛИНГВИСТИКА\": ['Т', 'В', 'Л', 'И', 'А', 'Н', 'К', 'Г', 'С']\n"
     ]
    }
   ],
   "source": [
    "unique_letters = list(set(\"ЛИНГВИСТИКА\"))\n",
    "print(f'Уникальные буквы слова \"ЛИНГВИСТИКА\": {unique_letters}')"
   ]
  },
  {
   "cell_type": "markdown",
   "id": "42619b40",
   "metadata": {},
   "source": [
    "Для своего слова, Бильба из 9 уникальных букв выше выбирает 5."
   ]
  },
  {
   "cell_type": "code",
   "execution_count": 3,
   "id": "d38eb1b7",
   "metadata": {},
   "outputs": [
    {
     "name": "stdout",
     "output_type": "stream",
     "text": [
      "Количество способов выбрать 5 букв из 9: 126\n",
      "Количество возможных перестановок: 120\n"
     ]
    }
   ],
   "source": [
    "combinations = math.comb(len(unique_letters), 5) \n",
    "print(f'Количество способов выбрать 5 букв из 9: {combinations}')\n",
    "permutations = math.perm(5)\n",
    "print(f'Количество возможных перестановок: {permutations}')"
   ]
  },
  {
   "cell_type": "code",
   "execution_count": 4,
   "id": "50e3b602",
   "metadata": {},
   "outputs": [
    {
     "name": "stdout",
     "output_type": "stream",
     "text": [
      "Количество возможных слов Бильбы: 15120\n"
     ]
    }
   ],
   "source": [
    "num_bilba_words = combinations * permutations\n",
    "print(f\"Количество возможных слов Бильбы: {num_bilba_words}\")"
   ]
  },
  {
   "cell_type": "markdown",
   "id": "e2028bd5",
   "metadata": {},
   "source": [
    " "
   ]
  },
  {
   "cell_type": "markdown",
   "id": "e6a22706",
   "metadata": {},
   "source": [
    "#### Правила Больбы"
   ]
  },
  {
   "cell_type": "code",
   "execution_count": 5,
   "id": "f9f35144",
   "metadata": {
    "scrolled": true
   },
   "outputs": [
    {
     "name": "stdout",
     "output_type": "stream",
     "text": [
      "Буквы слова \"ЛИНГВИСТИКА\": ['Л', 'И', 'Н', 'Г', 'В', 'И', 'С', 'Т', 'И', 'К', 'А']\n",
      "Гласные слова \"ЛИНГВИСТИКА\": ['И', 'И', 'И', 'А']\n",
      "Согласные слова \"ЛИНГВИСТИКА\": ['Л', 'Н', 'Г', 'В', 'С', 'Т', 'К']\n"
     ]
    }
   ],
   "source": [
    "letters = list(\"ЛИНГВИСТИКА\")\n",
    "print(f'Буквы слова \"ЛИНГВИСТИКА\": {letters}')\n",
    "\n",
    "vowels = [char for char in letters if char in \"ИА\"]\n",
    "print(f'Гласные слова \"ЛИНГВИСТИКА\": {vowels}')\n",
    "\n",
    "consonants = [char for char in letters if char not in vowels]\n",
    "print(f'Согласные слова \"ЛИНГВИСТИКА\": {consonants}')"
   ]
  },
  {
   "cell_type": "code",
   "execution_count": 6,
   "id": "43466fc7",
   "metadata": {},
   "outputs": [
    {
     "name": "stdout",
     "output_type": "stream",
     "text": [
      "Пары гласных: [('И', 'И'), ('И', 'А'), ('А', 'И')]\n"
     ]
    }
   ],
   "source": [
    "vowel_pairs = [('И', 'И'), ('И', 'А'), ('А', 'И')]\n",
    "print(f\"Пары гласных: {vowel_pairs}\")"
   ]
  },
  {
   "cell_type": "markdown",
   "id": "6910d4af",
   "metadata": {},
   "source": [
    "Для своего слова, Больба выбирает комбинации ИИ, ИА или АИ в качестве второй и четвертых букв соответственно; <br>\n",
    "В качестве первой, третьей и пятой букв, он выбирает случайные согласные."
   ]
  },
  {
   "cell_type": "code",
   "execution_count": 7,
   "id": "c3acc5cf",
   "metadata": {},
   "outputs": [
    {
     "name": "stdout",
     "output_type": "stream",
     "text": [
      "Количество способов комбинировать согласные: 210\n"
     ]
    }
   ],
   "source": [
    "num_consonant_combinations = math.perm(len(consonants), 3)\n",
    "print(f\"Количество способов комбинировать согласные: {num_consonant_combinations}\")"
   ]
  },
  {
   "cell_type": "code",
   "execution_count": 8,
   "id": "60fbcb51",
   "metadata": {},
   "outputs": [
    {
     "name": "stdout",
     "output_type": "stream",
     "text": [
      "Общее количество возможных слов Больбы: 630\n"
     ]
    }
   ],
   "source": [
    "num_possible_words_bolba = num_consonant_combinations * len(vowel_pairs)\n",
    "\n",
    "print(f\"Общее количество возможных слов Больбы: {num_possible_words_bolba}\")"
   ]
  },
  {
   "cell_type": "markdown",
   "id": "6471453b",
   "metadata": {},
   "source": [
    " "
   ]
  },
  {
   "cell_type": "markdown",
   "id": "c32d36fc",
   "metadata": {},
   "source": [
    " "
   ]
  },
  {
   "cell_type": "markdown",
   "id": "dca16996",
   "metadata": {},
   "source": [
    " "
   ]
  },
  {
   "cell_type": "markdown",
   "id": "8a0f8bc6",
   "metadata": {},
   "source": [
    " "
   ]
  },
  {
   "cell_type": "markdown",
   "id": "6916677e",
   "metadata": {},
   "source": [
    "### Решение А: Оба участника не знают правил друг друга"
   ]
  },
  {
   "cell_type": "markdown",
   "id": "ca23f7e8",
   "metadata": {},
   "source": [
    "Для того, чтобы посчитать, с какой вероятностью Бильба и Больба загадают одно и то же слово, сначала нужно подсчитать, с какой вероятностью они загадают те слова, которые находятся в \"банках слов\" у обеих участников. <br>\n",
    "У Бильбы это 15120 слов, в каждом из которых все буквы - уникальные. У Больбы - 630 слов, в каждом из которых на 2 и 4 позиции стоят гласные. Требованиям обоих участников соответствуют 420 слов, в которых все буквы уникальные, а на 2 и 4 позициях стоят гласные (сочетания АИ, ИА)."
   ]
  },
  {
   "cell_type": "code",
   "execution_count": 9,
   "id": "e9078d24",
   "metadata": {},
   "outputs": [
    {
     "name": "stdout",
     "output_type": "stream",
     "text": [
      "Вероятность того, что Бильба и Больба оба загадают слово из общего \"банка слов\": 0.018518518518518517\n"
     ]
    }
   ],
   "source": [
    "prob1a = (420/630 * 420/15120)\n",
    "print('Вероятность того, что Бильба и Больба оба загадают слово из общего \"банка слов\":', prob1a)"
   ]
  },
  {
   "cell_type": "markdown",
   "id": "7c38fd6b",
   "metadata": {},
   "source": [
    "Теперь, посчитаем, с какой вероятностью они загадают одно и то же слово, при условии, что они загадывают слова из общего \"банка слов\"."
   ]
  },
  {
   "cell_type": "code",
   "execution_count": 10,
   "id": "f6906c4f",
   "metadata": {},
   "outputs": [
    {
     "name": "stdout",
     "output_type": "stream",
     "text": [
      "Вероятность того, что Бильба и Больба загадают одно и то же слово из общего \"банка слов\": 5.668934240362812e-06\n"
     ]
    }
   ],
   "source": [
    "prob1b = 1/(420*420)\n",
    "print('Вероятность того, что Бильба и Больба загадают одно и то же слово из общего \"банка слов\":', prob1b)"
   ]
  },
  {
   "cell_type": "markdown",
   "id": "20268328",
   "metadata": {},
   "source": [
    "И наконец - посчитаем вероятность того, что Бильба и Больба загадают одно и то же слово, при условии, что не знают правил друг друга."
   ]
  },
  {
   "cell_type": "code",
   "execution_count": 11,
   "id": "e5360a03",
   "metadata": {},
   "outputs": [
    {
     "name": "stdout",
     "output_type": "stream",
     "text": [
      "Вероятность загадать одно и то же слово при варианте А: 1.0498026371042243e-07\n"
     ]
    }
   ],
   "source": [
    "prob1 = prob1a * prob1b\n",
    "print(f\"Вероятность загадать одно и то же слово при варианте А: {prob1}\")"
   ]
  },
  {
   "cell_type": "markdown",
   "id": "6b3f7e67",
   "metadata": {},
   "source": [
    " "
   ]
  },
  {
   "cell_type": "markdown",
   "id": "4f46ebd5",
   "metadata": {},
   "source": [
    "### Решение Б: Бильба знает правила Больбы, а Больба остается в неведении"
   ]
  },
  {
   "cell_type": "markdown",
   "id": "16077377",
   "metadata": {},
   "source": [
    "В этом случае, если Бильба знает правила Больбы (о том, что на 2 и 4 позициях в слове должны стоять гласные), Бильба будет выбирать только такие слова. Вместе с тем, он не отступает от своего правила об уникальности всех букв в слове, а значит не будет загадывать слова, содержащие комбинацию ИИ на 2 и 4 позициях. <br>\n",
    "Таким образом, из 630 слов, которые может загадать Больба, в \"банке слов\" у Бильбы будет лишь 420 слов."
   ]
  },
  {
   "cell_type": "code",
   "execution_count": 12,
   "id": "553e67be",
   "metadata": {},
   "outputs": [
    {
     "name": "stdout",
     "output_type": "stream",
     "text": [
      "Вероятность загадать одно и то же слово при варианте Б: 1/264600, или 3.7792894935752077e-06\n"
     ]
    }
   ],
   "source": [
    "num_combinations2 = 420 * 630\n",
    "prob2 = 1/num_combinations2\n",
    "print(f\"Вероятность загадать одно и то же слово при варианте Б: 1/{num_combinations2}, или {prob2}\")"
   ]
  },
  {
   "cell_type": "markdown",
   "id": "271d8a2b",
   "metadata": {},
   "source": [
    " "
   ]
  },
  {
   "cell_type": "markdown",
   "id": "031c8a70",
   "metadata": {},
   "source": [
    " "
   ]
  },
  {
   "cell_type": "markdown",
   "id": "d2dcd1e3",
   "metadata": {},
   "source": [
    " "
   ]
  },
  {
   "cell_type": "markdown",
   "id": "cf4ecf27",
   "metadata": {},
   "source": [
    " "
   ]
  },
  {
   "cell_type": "markdown",
   "id": "690caf5a",
   "metadata": {},
   "source": [
    " "
   ]
  },
  {
   "cell_type": "markdown",
   "id": "8a9efa4b",
   "metadata": {},
   "source": [
    "## Задача 2: Лесной твиттер"
   ]
  },
  {
   "cell_type": "code",
   "execution_count": 13,
   "id": "49f230a0",
   "metadata": {},
   "outputs": [],
   "source": [
    "import numpy as np\n",
    "import pandas as pd"
   ]
  },
  {
   "cell_type": "markdown",
   "id": "65e9b7df",
   "metadata": {},
   "source": [
    "### Загрузка файлов"
   ]
  },
  {
   "cell_type": "code",
   "execution_count": 14,
   "id": "4aa5025b",
   "metadata": {
    "scrolled": true
   },
   "outputs": [
    {
     "name": "stdout",
     "output_type": "stream",
     "text": [
      "  Автор поста Вид автора поста  \\\n",
      "0      Никита             Заяц   \n",
      "1       Алиса              Лис   \n",
      "2       Костя          Воробей   \n",
      "3       Мария              Лис   \n",
      "4       Ольга             Енот   \n",
      "\n",
      "                                         текст поста дата поста  \n",
      "0  Вчера в лесу прошел забавный конкурс на лучшее...  26/8/2024  \n",
      "1  Сегодня встретил в лесу стайку воробьев, котор...   2/8/2024  \n",
      "2  Сегодня встретил в лесу воробьев, радостно чир...   2/6/2024  \n",
      "3  Утром услышал звуки выстрелов охотников. Пора ...   4/8/2024  \n",
      "4  Утром наблюдал за игрой белок на поляне. Они б...  19/7/2024  \n"
     ]
    }
   ],
   "source": [
    "dub1 = pd.read_csv('C:/Users/Vasily/Downloads/Telegram Desktop/tweeter_dub1.csv', sep = ';', index_col = None)\n",
    "print(dub1.head())"
   ]
  },
  {
   "cell_type": "code",
   "execution_count": 15,
   "id": "81380f65",
   "metadata": {
    "scrolled": true
   },
   "outputs": [
    {
     "name": "stdout",
     "output_type": "stream",
     "text": [
      "  Автор поста Вид автора поста  \\\n",
      "0     Дмитрий           Синица   \n",
      "1       Алиса              Лис   \n",
      "2       Ольга            Белка   \n",
      "3       Мария              Лис   \n",
      "4       Ольга             Заяц   \n",
      "\n",
      "                                         текст поста дата поста  \n",
      "0  На прогулке обнаружил поляну, покрытую цветами...  29/8/2024  \n",
      "1  Сегодня в лесу встретил странную стрекозу, кот...  21/8/2024  \n",
      "2  Эти наглые люди считают, что лес принадлежит и...  23/8/2024  \n",
      "3  На утренней зарядке заметил, что деревья начал...  11/6/2024  \n",
      "4  Сегодня встретил в лесу одинокого сокола, сидя...   6/7/2024  \n"
     ]
    }
   ],
   "source": [
    "dub2 = pd.read_csv('C:/Users/Vasily/Downloads/Telegram Desktop/tweeter_dub2.csv', sep = ';', index_col = None)\n",
    "print(dub2.head())"
   ]
  },
  {
   "cell_type": "markdown",
   "id": "fdd30a48",
   "metadata": {},
   "source": [
    " "
   ]
  },
  {
   "cell_type": "markdown",
   "id": "eee52552",
   "metadata": {},
   "source": [
    " "
   ]
  },
  {
   "cell_type": "markdown",
   "id": "1e9ce125",
   "metadata": {},
   "source": [
    " "
   ]
  },
  {
   "cell_type": "markdown",
   "id": "91340843",
   "metadata": {},
   "source": [
    "### Анализ тональности"
   ]
  },
  {
   "cell_type": "markdown",
   "id": "a6a09ccc",
   "metadata": {},
   "source": [
    "Создадим два списка: положительных и отрицательных слов.\n",
    "Так как нам нужно подсчитывать тональности вне зависимости от форм слова, в списках будут представлены только основы слов."
   ]
  },
  {
   "cell_type": "code",
   "execution_count": 16,
   "id": "130ccc7a",
   "metadata": {},
   "outputs": [],
   "source": [
    "positive_words = ['хорош', 'спасибо', 'радостн', 'вкусн', 'забавн', 'мил', 'уютн', \n",
    "                  'весел', 'мелодичн', 'свободн', 'ласков', 'впечатляющ', 'талантлив', 'интересн', 'надежд']"
   ]
  },
  {
   "cell_type": "code",
   "execution_count": 17,
   "id": "e0cd335b",
   "metadata": {},
   "outputs": [],
   "source": [
    "def count_positive_words(text):\n",
    "    count = 0\n",
    "    for word in text.split():\n",
    "        word_lower = word.lower()\n",
    "        for positive_word in positive_words:\n",
    "            if word.startswith(positive_word):\n",
    "                count += 1\n",
    "    return count"
   ]
  },
  {
   "cell_type": "code",
   "execution_count": 18,
   "id": "9e434126",
   "metadata": {},
   "outputs": [],
   "source": [
    "negative_words = ['ненавистн', 'безответственн', 'дик', 'наказани', 'жестокост', 'убийств', \n",
    "                  'бед', 'виновн', 'варварств', 'грустно', 'печально', 'плох', 'фейк', 'безжалостн']"
   ]
  },
  {
   "cell_type": "code",
   "execution_count": 19,
   "id": "4de39ef8",
   "metadata": {},
   "outputs": [],
   "source": [
    "def count_negative_words(text):\n",
    "    count = 0\n",
    "    for word in text.split():\n",
    "        word_lower = word.lower()\n",
    "        for negative_word in negative_words:\n",
    "            if word.startswith(negative_word):\n",
    "                count -= 1\n",
    "    return count"
   ]
  },
  {
   "cell_type": "markdown",
   "id": "6d0febfd",
   "metadata": {},
   "source": [
    " "
   ]
  },
  {
   "cell_type": "markdown",
   "id": "79c1b9ff",
   "metadata": {},
   "source": [
    "###### Дуб 1"
   ]
  },
  {
   "cell_type": "code",
   "execution_count": 20,
   "id": "67c3e128",
   "metadata": {
    "scrolled": true
   },
   "outputs": [
    {
     "name": "stdout",
     "output_type": "stream",
     "text": [
      "  Автор поста Вид автора поста  \\\n",
      "0      Никита             Заяц   \n",
      "1       Алиса              Лис   \n",
      "2       Костя          Воробей   \n",
      "3       Мария              Лис   \n",
      "4       Ольга             Енот   \n",
      "\n",
      "                                         текст поста дата поста  тональность  \n",
      "0  Вчера в лесу прошел забавный конкурс на лучшее...  26/8/2024            0  \n",
      "1  Сегодня встретил в лесу стайку воробьев, котор...   2/8/2024            0  \n",
      "2  Сегодня встретил в лесу воробьев, радостно чир...   2/6/2024            0  \n",
      "3  Утром услышал звуки выстрелов охотников. Пора ...   4/8/2024            0  \n",
      "4  Утром наблюдал за игрой белок на поляне. Они б...  19/7/2024            0  \n"
     ]
    }
   ],
   "source": [
    "dub1['тональность'] = 0\n",
    "print(dub1.head())"
   ]
  },
  {
   "cell_type": "code",
   "execution_count": 21,
   "id": "6599bce8",
   "metadata": {},
   "outputs": [
    {
     "name": "stdout",
     "output_type": "stream",
     "text": [
      "  Автор поста Вид автора поста  \\\n",
      "0      Никита             Заяц   \n",
      "1       Алиса              Лис   \n",
      "2       Костя          Воробей   \n",
      "3       Мария              Лис   \n",
      "4       Ольга             Енот   \n",
      "\n",
      "                                         текст поста дата поста  тональность  \n",
      "0  Вчера в лесу прошел забавный конкурс на лучшее...  26/8/2024            1  \n",
      "1  Сегодня встретил в лесу стайку воробьев, котор...   2/8/2024            1  \n",
      "2  Сегодня встретил в лесу воробьев, радостно чир...   2/6/2024            1  \n",
      "3  Утром услышал звуки выстрелов охотников. Пора ...   4/8/2024            0  \n",
      "4  Утром наблюдал за игрой белок на поляне. Они б...  19/7/2024            1  \n"
     ]
    }
   ],
   "source": [
    "dub1['тональность'] += dub1['текст поста'].apply(count_positive_words)\n",
    "\n",
    "print(dub1.head())"
   ]
  },
  {
   "cell_type": "code",
   "execution_count": 22,
   "id": "24906207",
   "metadata": {
    "scrolled": true
   },
   "outputs": [
    {
     "name": "stdout",
     "output_type": "stream",
     "text": [
      "  Автор поста Вид автора поста  \\\n",
      "0      Никита             Заяц   \n",
      "1       Алиса              Лис   \n",
      "2       Костя          Воробей   \n",
      "3       Мария              Лис   \n",
      "4       Ольга             Енот   \n",
      "\n",
      "                                         текст поста дата поста  тональность  \n",
      "0  Вчера в лесу прошел забавный конкурс на лучшее...  26/8/2024            1  \n",
      "1  Сегодня встретил в лесу стайку воробьев, котор...   2/8/2024            1  \n",
      "2  Сегодня встретил в лесу воробьев, радостно чир...   2/6/2024            1  \n",
      "3  Утром услышал звуки выстрелов охотников. Пора ...   4/8/2024            0  \n",
      "4  Утром наблюдал за игрой белок на поляне. Они б...  19/7/2024            1  \n"
     ]
    }
   ],
   "source": [
    "dub1['тональность'] += dub1['текст поста'].apply(count_negative_words)\n",
    "\n",
    "print(dub1.head())"
   ]
  },
  {
   "cell_type": "markdown",
   "id": "8efba358",
   "metadata": {},
   "source": [
    " "
   ]
  },
  {
   "cell_type": "markdown",
   "id": "873734d6",
   "metadata": {},
   "source": [
    "###### Дуб 2"
   ]
  },
  {
   "cell_type": "code",
   "execution_count": 23,
   "id": "21670761",
   "metadata": {},
   "outputs": [
    {
     "name": "stdout",
     "output_type": "stream",
     "text": [
      "  Автор поста Вид автора поста  \\\n",
      "0     Дмитрий           Синица   \n",
      "1       Алиса              Лис   \n",
      "2       Ольга            Белка   \n",
      "3       Мария              Лис   \n",
      "4       Ольга             Заяц   \n",
      "\n",
      "                                         текст поста дата поста  тональность  \n",
      "0  На прогулке обнаружил поляну, покрытую цветами...  29/8/2024            0  \n",
      "1  Сегодня в лесу встретил странную стрекозу, кот...  21/8/2024            0  \n",
      "2  Эти наглые люди считают, что лес принадлежит и...  23/8/2024            0  \n",
      "3  На утренней зарядке заметил, что деревья начал...  11/6/2024            0  \n",
      "4  Сегодня встретил в лесу одинокого сокола, сидя...   6/7/2024            0  \n"
     ]
    }
   ],
   "source": [
    "dub2['тональность'] = 0\n",
    "print(dub2.head())"
   ]
  },
  {
   "cell_type": "code",
   "execution_count": 24,
   "id": "4f20c2f9",
   "metadata": {},
   "outputs": [
    {
     "name": "stdout",
     "output_type": "stream",
     "text": [
      "  Автор поста Вид автора поста  \\\n",
      "0     Дмитрий           Синица   \n",
      "1       Алиса              Лис   \n",
      "2       Ольга            Белка   \n",
      "3       Мария              Лис   \n",
      "4       Ольга             Заяц   \n",
      "\n",
      "                                         текст поста дата поста  тональность  \n",
      "0  На прогулке обнаружил поляну, покрытую цветами...  29/8/2024            0  \n",
      "1  Сегодня в лесу встретил странную стрекозу, кот...  21/8/2024            0  \n",
      "2  Эти наглые люди считают, что лес принадлежит и...  23/8/2024            0  \n",
      "3  На утренней зарядке заметил, что деревья начал...  11/6/2024            0  \n",
      "4  Сегодня встретил в лесу одинокого сокола, сидя...   6/7/2024            0  \n"
     ]
    }
   ],
   "source": [
    "dub2['тональность'] += dub2['текст поста'].apply(count_positive_words)\n",
    "\n",
    "print(dub2.head())"
   ]
  },
  {
   "cell_type": "code",
   "execution_count": 25,
   "id": "490e9124",
   "metadata": {},
   "outputs": [
    {
     "name": "stdout",
     "output_type": "stream",
     "text": [
      "  Автор поста Вид автора поста  \\\n",
      "0     Дмитрий           Синица   \n",
      "1       Алиса              Лис   \n",
      "2       Ольга            Белка   \n",
      "3       Мария              Лис   \n",
      "4       Ольга             Заяц   \n",
      "\n",
      "                                         текст поста дата поста  тональность  \n",
      "0  На прогулке обнаружил поляну, покрытую цветами...  29/8/2024            0  \n",
      "1  Сегодня в лесу встретил странную стрекозу, кот...  21/8/2024            0  \n",
      "2  Эти наглые люди считают, что лес принадлежит и...  23/8/2024            0  \n",
      "3  На утренней зарядке заметил, что деревья начал...  11/6/2024            0  \n",
      "4  Сегодня встретил в лесу одинокого сокола, сидя...   6/7/2024            0  \n"
     ]
    }
   ],
   "source": [
    "dub2['тональность'] += dub2['текст поста'].apply(count_negative_words)\n",
    "\n",
    "print(dub2.head())"
   ]
  },
  {
   "cell_type": "markdown",
   "id": "2cbaa596",
   "metadata": {},
   "source": [
    " "
   ]
  },
  {
   "cell_type": "markdown",
   "id": "1929fa53",
   "metadata": {},
   "source": [
    " "
   ]
  },
  {
   "cell_type": "markdown",
   "id": "51f130eb",
   "metadata": {},
   "source": [
    " "
   ]
  },
  {
   "cell_type": "markdown",
   "id": "a7511586",
   "metadata": {},
   "source": [
    "### Задания"
   ]
  },
  {
   "cell_type": "markdown",
   "id": "16d86577",
   "metadata": {},
   "source": [
    "#### Задание 1: Определить, на каком из дубов в среднем более добрые посты"
   ]
  },
  {
   "cell_type": "code",
   "execution_count": 26,
   "id": "fbdc9dfb",
   "metadata": {},
   "outputs": [
    {
     "name": "stdout",
     "output_type": "stream",
     "text": [
      "Средняя тональность у постов с первого дуба: 0.116\n"
     ]
    }
   ],
   "source": [
    "average_tone1 = dub1['тональность'].mean()\n",
    "\n",
    "print(\"Средняя тональность у постов с первого дуба:\", round(average_tone1, 3))"
   ]
  },
  {
   "cell_type": "code",
   "execution_count": 27,
   "id": "a5ae0f11",
   "metadata": {},
   "outputs": [
    {
     "name": "stdout",
     "output_type": "stream",
     "text": [
      "Средняя тональность у постов со второго дуба: 0.124\n"
     ]
    }
   ],
   "source": [
    "average_tone2 = dub2['тональность'].mean()\n",
    "\n",
    "print(\"Средняя тональность у постов со второго дуба:\", round(average_tone2, 3))"
   ]
  },
  {
   "cell_type": "markdown",
   "id": "0bbc66ee",
   "metadata": {},
   "source": [
    "Как мы видим, средняя тональность постов у второго дуба больше, а значит - посты там добрее."
   ]
  },
  {
   "cell_type": "markdown",
   "id": "c4a595f4",
   "metadata": {},
   "source": [
    " "
   ]
  },
  {
   "cell_type": "markdown",
   "id": "b28cc35e",
   "metadata": {},
   "source": [
    "#### Задание 2: Для дуба, который в среднем менее добрый, определить количество дней, в которые его посты в среднем добрее"
   ]
  },
  {
   "cell_type": "code",
   "execution_count": 28,
   "id": "31934fe0",
   "metadata": {
    "scrolled": true
   },
   "outputs": [
    {
     "name": "stdout",
     "output_type": "stream",
     "text": [
      "дата поста\n",
      "1/6/2024     0.500000\n",
      "1/8/2024    -0.666667\n",
      "10/6/2024   -0.500000\n",
      "10/7/2024    0.000000\n",
      "10/8/2024    0.333333\n",
      "               ...   \n",
      "8/7/2024     0.000000\n",
      "8/8/2024     0.250000\n",
      "9/6/2024     0.000000\n",
      "9/7/2024     0.500000\n",
      "9/8/2024     0.000000\n",
      "Name: тональность, Length: 83, dtype: float64\n"
     ]
    }
   ],
   "source": [
    "average_tone = dub1.groupby('дата поста')['тональность'].mean()\n",
    "\n",
    "print(average_tone)"
   ]
  },
  {
   "cell_type": "code",
   "execution_count": 29,
   "id": "76a1ee96",
   "metadata": {},
   "outputs": [
    {
     "name": "stdout",
     "output_type": "stream",
     "text": [
      "Средняя тональность у постов с первого дуба: 0.116\n",
      "Количество дней, в которые тональность постов выше средней (т. е. посты добрее): 61\n"
     ]
    }
   ],
   "source": [
    "dub1['higher_than_average_tone1'] = dub1['тональность'] > average_tone1\n",
    "days_higher = dub1['higher_than_average_tone1'].sum()\n",
    "\n",
    "print(f\"Средняя тональность у постов с первого дуба: {round(average_tone1, 3)}\")\n",
    "print(f\"Количество дней, в которые тональность постов выше средней (т. е. посты добрее): {days_higher}\")"
   ]
  },
  {
   "cell_type": "markdown",
   "id": "4f5773aa",
   "metadata": {},
   "source": [
    " "
   ]
  },
  {
   "cell_type": "markdown",
   "id": "3f961f36",
   "metadata": {},
   "source": [
    "#### Задание 3: Определить самый добрый вид животных для каждого из дубов и в целом"
   ]
  },
  {
   "cell_type": "markdown",
   "id": "ec29eb17",
   "metadata": {},
   "source": [
    "###### Самый добрый вид животных для первого дуба:"
   ]
  },
  {
   "cell_type": "code",
   "execution_count": 30,
   "id": "49fec937",
   "metadata": {},
   "outputs": [
    {
     "name": "stdout",
     "output_type": "stream",
     "text": [
      "Самый добрый вид животного на первом дубе - Енот, имеющий тональность 0.333\n"
     ]
    }
   ],
   "source": [
    "kindest_animal_dub1 = dub1.groupby('Вид автора поста')['тональность'].mean().idxmax()\n",
    "max_tone_dub1 = dub1.groupby('Вид автора поста')['тональность'].mean().max()\n",
    "\n",
    "print(f\"Самый добрый вид животного на первом дубе - {kindest_animal_dub1}, имеющий тональность {round(max_tone_dub1, 3)}\")"
   ]
  },
  {
   "cell_type": "markdown",
   "id": "53f6a0ca",
   "metadata": {},
   "source": [
    " "
   ]
  },
  {
   "cell_type": "markdown",
   "id": "ad560ea2",
   "metadata": {},
   "source": [
    "###### Самый добрый вид животных для второго дуба:"
   ]
  },
  {
   "cell_type": "code",
   "execution_count": 31,
   "id": "4aa1ae78",
   "metadata": {
    "scrolled": true
   },
   "outputs": [
    {
     "name": "stdout",
     "output_type": "stream",
     "text": [
      "Самый добрый вид животного на втором дубе - Олень, имеющий тональность 0.409\n"
     ]
    }
   ],
   "source": [
    "kindest_animal_dub2 = dub2.groupby('Вид автора поста')['тональность'].mean().idxmax()\n",
    "max_tone_dub2 = dub2.groupby('Вид автора поста')['тональность'].mean().max()\n",
    "\n",
    "print(f\"Самый добрый вид животного на втором дубе - {kindest_animal_dub2}, имеющий тональность {round(max_tone_dub2, 3)}\")"
   ]
  },
  {
   "cell_type": "markdown",
   "id": "b00c191a",
   "metadata": {},
   "source": [
    " "
   ]
  },
  {
   "cell_type": "markdown",
   "id": "13b3db4e",
   "metadata": {},
   "source": [
    "###### Самый добрый вид животных в целом:"
   ]
  },
  {
   "cell_type": "code",
   "execution_count": 32,
   "id": "5b2e95b4",
   "metadata": {},
   "outputs": [
    {
     "name": "stdout",
     "output_type": "stream",
     "text": [
      "Самый добрый вид животного в целом - Олень, имеющий тональность 0.286\n"
     ]
    }
   ],
   "source": [
    "duby = pd.concat([dub1, dub2])\n",
    "\n",
    "kindest_animal_duby = duby.groupby('Вид автора поста')['тональность'].mean().idxmax()\n",
    "max_tone_duby = duby.groupby('Вид автора поста')['тональность'].mean().max()\n",
    "\n",
    "print(f\"Самый добрый вид животного в целом - {kindest_animal_duby}, имеющий тональность {round(max_tone_duby, 3)}\")"
   ]
  },
  {
   "cell_type": "markdown",
   "id": "328ea9d1",
   "metadata": {},
   "source": [
    " "
   ]
  },
  {
   "cell_type": "markdown",
   "id": "7947e8e8",
   "metadata": {},
   "source": [
    " "
   ]
  },
  {
   "cell_type": "markdown",
   "id": "0c504595",
   "metadata": {},
   "source": [
    " "
   ]
  },
  {
   "cell_type": "markdown",
   "id": "84fe8891",
   "metadata": {},
   "source": [
    " "
   ]
  },
  {
   "cell_type": "markdown",
   "id": "4f9741a0",
   "metadata": {},
   "source": [
    " "
   ]
  },
  {
   "cell_type": "markdown",
   "id": "a66bfc98",
   "metadata": {},
   "source": [
    "## Задача 3: Roll Initiative"
   ]
  },
  {
   "cell_type": "markdown",
   "id": "be49f949",
   "metadata": {},
   "source": [
    "Необходимо вычислить математическое ожидание и стандартное отклонение результатов броска двадцатигранного кубика."
   ]
  },
  {
   "cell_type": "markdown",
   "id": "cb4e5147",
   "metadata": {},
   "source": [
    " "
   ]
  },
  {
   "cell_type": "markdown",
   "id": "36928e7e",
   "metadata": {},
   "source": [
    "###### Результаты бросков"
   ]
  },
  {
   "cell_type": "code",
   "execution_count": 33,
   "id": "5c276045",
   "metadata": {},
   "outputs": [],
   "source": [
    "import matplotlib.pyplot as plt"
   ]
  },
  {
   "cell_type": "code",
   "execution_count": 34,
   "id": "f236f3ea",
   "metadata": {},
   "outputs": [],
   "source": [
    "results = [1]*70 + [2]*10 + [3]*10 + [4]*90 + [5]*60 + [6]*80 + [7]*40 + [8]*50 + [9]*20 + [10]*30 + [11]*40 + [12]*80 + [13]*40 + [14]*100 + [15]*70 + [16]*10 + [17]*30 + [18]*30 + [19]*80 + [20]*90\n",
    "df = pd.DataFrame(results, columns=['results'])"
   ]
  },
  {
   "cell_type": "code",
   "execution_count": 35,
   "id": "d25a8069",
   "metadata": {},
   "outputs": [
    {
     "data": {
      "image/png": "[encoded data removed]",
      "text/plain": [
       "<Figure size 720x432 with 1 Axes>"
      ]
     },
     "metadata": {
      "needs_background": "light"
     },
     "output_type": "display_data"
    }
   ],
   "source": [
    "plt.figure(figsize=(10, 6))\n",
    "n, bins, patches = plt.hist(df['results'], bins=20, color='lightblue', edgecolor='black', align='mid')\n",
    "\n",
    "plt.xlabel('Значение')\n",
    "plt.ylabel('Частота')\n",
    "plt.title('Распределение результатов бросков кубика')\n",
    "\n",
    "bin_centers = 0.5 * (bins[1:] + bins[:-1])\n",
    "plt.xticks(bin_centers, range(1, 21, 1))\n",
    "plt.yticks(range(0, 101, 10))\n",
    "\n",
    "for y_value in range(0, 101, 10):\n",
    "    plt.axhline(y=y_value, color='gray', linestyle='--', linewidth=0.5)\n",
    "\n",
    "plt.show()"
   ]
  },
  {
   "cell_type": "markdown",
   "id": "14590f4d",
   "metadata": {},
   "source": [
    " "
   ]
  },
  {
   "cell_type": "markdown",
   "id": "13ed77d2",
   "metadata": {},
   "source": [
    "##### Математическое ожидание"
   ]
  },
  {
   "cell_type": "code",
   "execution_count": 36,
   "id": "71148f70",
   "metadata": {
    "scrolled": true
   },
   "outputs": [
    {
     "name": "stdout",
     "output_type": "stream",
     "text": [
      "10.990291262135923\n"
     ]
    }
   ],
   "source": [
    "mean_result = df['results'].mean()\n",
    "print(mean_result)"
   ]
  },
  {
   "cell_type": "markdown",
   "id": "7d358627",
   "metadata": {},
   "source": [
    "Кажется, Никиту никто не проклинал - математическое ожидание выше 10."
   ]
  },
  {
   "cell_type": "markdown",
   "id": "6a6cbc84",
   "metadata": {},
   "source": [
    " "
   ]
  },
  {
   "cell_type": "markdown",
   "id": "258c5752",
   "metadata": {},
   "source": [
    "##### Стандартное отклонение"
   ]
  },
  {
   "cell_type": "code",
   "execution_count": 37,
   "id": "b922ce08",
   "metadata": {
    "scrolled": true
   },
   "outputs": [
    {
     "name": "stdout",
     "output_type": "stream",
     "text": [
      "5.889317874494709\n"
     ]
    }
   ],
   "source": [
    "std_deviation = df['results'].std()\n",
    "print(std_deviation)"
   ]
  },
  {
   "cell_type": "markdown",
   "id": "52dc3fdf",
   "metadata": {},
   "source": [
    " "
   ]
  },
  {
   "cell_type": "markdown",
   "id": "5a546861",
   "metadata": {},
   "source": [
    " "
   ]
  },
  {
   "cell_type": "markdown",
   "id": "84b6a87a",
   "metadata": {},
   "source": [
    " "
   ]
  },
  {
   "cell_type": "markdown",
   "id": "5ff32f61",
   "metadata": {},
   "source": [
    " "
   ]
  },
  {
   "cell_type": "markdown",
   "id": "d9a86c22",
   "metadata": {},
   "source": [
    " "
   ]
  },
  {
   "cell_type": "markdown",
   "id": "526a4ae9",
   "metadata": {},
   "source": [
    "## Задача 4: Wordle"
   ]
  },
  {
   "cell_type": "code",
   "execution_count": 38,
   "id": "4bcc5532",
   "metadata": {},
   "outputs": [
    {
     "name": "stderr",
     "output_type": "stream",
     "text": [
      "[nltk_data] Downloading package words to\n",
      "[nltk_data]     C:\\Users\\Vasily\\AppData\\Roaming\\nltk_data...\n",
      "[nltk_data]   Package words is already up-to-date!\n"
     ]
    }
   ],
   "source": [
    "import random\n",
    "import re\n",
    "import nltk\n",
    "import colorama\n",
    "from colorama import Fore, Back, Style\n",
    "\n",
    "nltk.download('words')\n",
    "\n",
    "from nltk.corpus import words as english_words"
   ]
  },
  {
   "cell_type": "code",
   "execution_count": 39,
   "id": "112f7b0c",
   "metadata": {},
   "outputs": [],
   "source": [
    "word_list = [\"start\", \"stale\"] # Сюда можно добавлять слова, случайное из которых программа загадает пользователю"
   ]
  },
  {
   "cell_type": "code",
   "execution_count": 41,
   "id": "35d0e540",
   "metadata": {},
   "outputs": [
    {
     "name": "stdout",
     "output_type": "stream",
     "text": [
      "Угадайте пятибуквенное слово! У вас есть 6 попыток.\n",
      "\n",
      "Попытка 1\n",
      "Ваше слово: apple\n",
      "РЕЗУЛЬТАТ: \u001b[33mA\u001b[0m \u001b[90mP\u001b[0m \u001b[90mP\u001b[0m \u001b[32mL\u001b[0m \u001b[32mE\u001b[0m\n",
      "1. A есть, но стоит не там\n",
      "2. P отсутствует в слове\n",
      "3. P отсутствует в слове\n",
      "4. L стоит на правильном месте\n",
      "5. E стоит на правильном месте\n",
      "\n",
      "Попытка 2\n",
      "Ваше слово: TaSTY\n",
      "РЕЗУЛЬТАТ: \u001b[33mT\u001b[0m \u001b[33mA\u001b[0m \u001b[33mS\u001b[0m \u001b[90mT\u001b[0m \u001b[90mY\u001b[0m\n",
      "1. T есть, но стоит не там\n",
      "2. A есть, но стоит не там\n",
      "3. S есть, но стоит не там\n",
      "4. T отсутствует в слове\n",
      "5. Y отсутствует в слове\n",
      "\n",
      "Попытка 3\n",
      "Ваше слово: Privet\n",
      "Слово должно состоять из пяти букв.\n",
      "\n",
      "Попытка 3\n",
      "Ваше слово: океан\n",
      "Слово должно содержать только буквы латинского алфавита.\n",
      "\n",
      "Попытка 3\n",
      "Ваше слово: dfgdf\n",
      "Такого слова не существует в английском языке.\n",
      "\n",
      "Попытка 3\n",
      "Ваше слово: steep\n",
      "РЕЗУЛЬТАТ: \u001b[32mS\u001b[0m \u001b[32mT\u001b[0m \u001b[33mE\u001b[0m \u001b[90mE\u001b[0m \u001b[90mP\u001b[0m\n",
      "1. S стоит на правильном месте\n",
      "2. T стоит на правильном месте\n",
      "3. E есть, но стоит не там\n",
      "4. E отсутствует в слове\n",
      "5. P отсутствует в слове\n",
      "\n",
      "Попытка 4\n",
      "Ваше слово: stale\n",
      "РЕЗУЛЬТАТ: \u001b[32mS\u001b[0m \u001b[32mT\u001b[0m \u001b[32mA\u001b[0m \u001b[32mL\u001b[0m \u001b[32mE\u001b[0m\n",
      "1. S стоит на правильном месте\n",
      "2. T стоит на правильном месте\n",
      "3. A стоит на правильном месте\n",
      "4. L стоит на правильном месте\n",
      "5. E стоит на правильном месте\n",
      "\n",
      "Поздравляем, вы выиграли!\n"
     ]
    }
   ],
   "source": [
    "def choose_word(word_list):\n",
    "    return random.choice(word_list).upper()\n",
    "\n",
    "def is_english_word(word):\n",
    "    return word.lower() in english_words.words()\n",
    "\n",
    "def get_color(chosen_word, guess):\n",
    "    color_list = []\n",
    "    used_indices = []\n",
    "    for i in range(5):\n",
    "        if guess[i] == chosen_word[i]:\n",
    "            color_list.append(Fore.GREEN + guess[i] + Style.RESET_ALL)\n",
    "            used_indices.append(i)\n",
    "        else:\n",
    "            found = False\n",
    "            for j in range(5):\n",
    "                if j not in used_indices and guess[i] == chosen_word[j]:\n",
    "                    color_list.append(Fore.YELLOW + guess[i] + Style.RESET_ALL)\n",
    "                    used_indices.append(j)\n",
    "                    found = True\n",
    "                    break\n",
    "            if not found:\n",
    "                color_list.append(Fore.LIGHTBLACK_EX + guess[i] + Style.RESET_ALL)\n",
    "    return ' '.join(color_list)\n",
    "\n",
    "\n",
    "def get_feedback(guess, target):\n",
    "    feedback = [\"\"] * 5\n",
    "    target_letters = list(target)\n",
    "    guess_letters = list(guess)\n",
    "\n",
    "    correct_placement_indices = [i for i in range(5) if guess_letters[i] == target_letters[i]]\n",
    "    for i in range(5):\n",
    "        if i in correct_placement_indices:\n",
    "            feedback[i] = f\"{guess_letters[i]} стоит на правильном месте\"\n",
    "            target_letters[i] = None\n",
    "\n",
    "    for i in range(5):\n",
    "        if feedback[i] != \"\":\n",
    "            continue\n",
    "        if guess_letters[i] in target_letters:\n",
    "            feedback[i] = f\"{guess_letters[i]} есть, но стоит не там\"\n",
    "            target_letters[target_letters.index(guess_letters[i])] = None\n",
    "        else:\n",
    "            feedback[i] = f\"{guess_letters[i]} отсутствует в слове\"\n",
    "\n",
    "    for i in range(5):\n",
    "        print(f\"{i + 1}. {feedback[i]}\")\n",
    "\n",
    "def play_game():\n",
    "    target_word = choose_word(word_list)\n",
    "    attempts = 0\n",
    "    max_attempts = 6\n",
    "    attempt_number = 1\n",
    "\n",
    "    print(\"Угадайте пятибуквенное слово! У вас есть 6 попыток.\")\n",
    "\n",
    "    while attempts < max_attempts:\n",
    "        print(f\"\\nПопытка {attempt_number}\")\n",
    "        guess = input(\"Ваше слово: \").strip().upper()\n",
    "\n",
    "        if len(guess) != 5:\n",
    "            print(\"Слово должно состоять из пяти букв.\")\n",
    "            continue\n",
    "\n",
    "        if not re.match(\"^[A-Z]+$\", guess):\n",
    "            print(\"Слово должно содержать только буквы латинского алфавита.\")\n",
    "            continue\n",
    "\n",
    "        if not is_english_word(guess):\n",
    "            print(\"Такого слова не существует в английском языке.\")\n",
    "            continue\n",
    "\n",
    "        colored_guess = get_color(target_word, guess)\n",
    "        print(f\"РЕЗУЛЬТАТ: {colored_guess}\")\n",
    "\n",
    "        get_feedback(guess, target_word)\n",
    "\n",
    "        if guess == target_word:\n",
    "            print(\"\\nПоздравляем, вы выиграли!\")\n",
    "            return\n",
    "\n",
    "        attempts += 1\n",
    "        attempt_number += 1\n",
    "\n",
    "    print(f\"\\nК сожалению, вы проиграли. Загаданное слово: {target_word}\")\n",
    "\n",
    "play_game()"
   ]
  },
  {
   "cell_type": "markdown",
   "id": "67eaad5d",
   "metadata": {},
   "source": [
    " "
   ]
  },
  {
   "cell_type": "markdown",
   "id": "c13f3c85",
   "metadata": {},
   "source": [
    " "
   ]
  },
  {
   "cell_type": "markdown",
   "id": "09826e25",
   "metadata": {},
   "source": [
    " "
   ]
  },
  {
   "cell_type": "markdown",
   "id": "ac57f94e",
   "metadata": {},
   "source": [
    "# Спасибо за внимание!"
   ]
  }
 ],
 "metadata": {
  "kernelspec": {
   "display_name": "Python 3 (ipykernel)",
   "language": "python",
   "name": "python3"
  },
  "language_info": {
   "codemirror_mode": {
    "name": "ipython",
    "version": 3
   },
   "file_extension": ".py",
   "mimetype": "text/x-python",
   "name": "python",
   "nbconvert_exporter": "python",
   "pygments_lexer": "ipython3",
   "version": "3.9.12"
  }
 },
 "nbformat": 4,
 "nbformat_minor": 5
}
